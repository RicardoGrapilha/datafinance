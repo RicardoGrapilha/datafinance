{
 "cells": [
  {
   "cell_type": "markdown",
   "id": "e477e9b1-194b-4546-9f8f-77c469dd4607",
   "metadata": {},
   "source": [
    "# Coleta de dados com o Python\n",
    "\n",
    "## Dados coletados via Pacotes\n",
    "\n",
    "### Cotações de ações e ETFs"
   ]
  },
  {
   "cell_type": "code",
   "execution_count": null,
   "id": "08d4cd6f",
   "metadata": {},
   "outputs": [],
   "source": [
    "!pip install yfinance"
   ]
  },
  {
   "cell_type": "code",
   "execution_count": null,
   "id": "70ef27c5-7edc-459f-ad23-f390b6e66c04",
   "metadata": {},
   "outputs": [],
   "source": [
    "import yfinance as yf"
   ]
  },
  {
   "cell_type": "code",
   "execution_count": null,
   "id": "b508e6f0-6cbd-413d-907f-0af51c1065fb",
   "metadata": {},
   "outputs": [],
   "source": [
    "dados_empresa = yf.download('WEGE3.SA')\n",
    "dados_empresa"
   ]
  },
  {
   "cell_type": "markdown",
   "id": "1fa6abe9",
   "metadata": {},
   "source": [
    "# Dados do fundamentus"
   ]
  },
  {
   "cell_type": "code",
   "execution_count": null,
   "id": "a0cf7a3a",
   "metadata": {},
   "outputs": [],
   "source": [
    "!pip install selenium"
   ]
  },
  {
   "cell_type": "code",
   "execution_count": null,
   "id": "2baab6a5",
   "metadata": {},
   "outputs": [],
   "source": [
    "!pip install webdriver-manager"
   ]
  },
  {
   "cell_type": "code",
   "execution_count": 2,
   "id": "c9f450d4",
   "metadata": {},
   "outputs": [
    {
     "ename": "ModuleNotFoundError",
     "evalue": "No module named 'webdriver_manager'",
     "output_type": "error",
     "traceback": [
      "\u001b[1;31m---------------------------------------------------------------------------\u001b[0m",
      "\u001b[1;31mModuleNotFoundError\u001b[0m                       Traceback (most recent call last)",
      "Cell \u001b[1;32mIn[2], line 3\u001b[0m\n\u001b[0;32m      1\u001b[0m \u001b[38;5;28;01mfrom\u001b[39;00m \u001b[38;5;21;01mselenium\u001b[39;00m \u001b[38;5;28;01mimport\u001b[39;00m webdriver\n\u001b[0;32m      2\u001b[0m \u001b[38;5;28;01mfrom\u001b[39;00m \u001b[38;5;21;01mselenium\u001b[39;00m\u001b[38;5;21;01m.\u001b[39;00m\u001b[38;5;21;01mwebdriver\u001b[39;00m\u001b[38;5;21;01m.\u001b[39;00m\u001b[38;5;21;01mchrome\u001b[39;00m\u001b[38;5;21;01m.\u001b[39;00m\u001b[38;5;21;01mservice\u001b[39;00m \u001b[38;5;28;01mimport\u001b[39;00m Service\n\u001b[1;32m----> 3\u001b[0m \u001b[38;5;28;01mfrom\u001b[39;00m \u001b[38;5;21;01mwebdriver_manager\u001b[39;00m\u001b[38;5;21;01m.\u001b[39;00m\u001b[38;5;21;01mchrome\u001b[39;00m \u001b[38;5;28;01mimport\u001b[39;00m ChromeDriverManager\n\u001b[0;32m      4\u001b[0m \u001b[38;5;28;01mimport\u001b[39;00m \u001b[38;5;21;01mpandas\u001b[39;00m \u001b[38;5;28;01mas\u001b[39;00m \u001b[38;5;21;01mpd\u001b[39;00m\n",
      "\u001b[1;31mModuleNotFoundError\u001b[0m: No module named 'webdriver_manager'"
     ]
    }
   ],
   "source": [
    "from selenium import webdriver\n",
    "from selenium.webdriver.chrome.service import Service\n",
    "from webdriver_manager.chrome import ChromeDriverManager\n",
    "import pandas as pd"
   ]
  },
  {
   "cell_type": "code",
   "execution_count": null,
   "id": "f5d1b9ed",
   "metadata": {},
   "outputs": [],
   "source": [
    "driver = webdriver.Chrome(service=Service(ChromeDriverManager().install()))"
   ]
  },
  {
   "cell_type": "code",
   "execution_count": null,
   "id": "a1e430ad",
   "metadata": {},
   "outputs": [],
   "source": [
    "url = 'https://www.fundamentus.com.br/resultado.php'\n",
    "\n",
    "driver.get(url)"
   ]
  },
  {
   "cell_type": "code",
   "execution_count": null,
   "id": "71da9f8a",
   "metadata": {},
   "outputs": [],
   "source": [
    "local_tabela = '/html/body/div[1]/div[2]/table'\n",
    "\n",
    "elemento = driver.find_element(\"xpath\", local_tabela)\n",
    "\n",
    "html_tabela = elemento.get_attribute('outerHTML')\n",
    "\n",
    "tabela = pd.read_html(str(html_tabela), thousands = '.', decimal = ',')[0]\n",
    "\n",
    "tabela"
   ]
  },
  {
   "cell_type": "markdown",
   "id": "690f5f63-5979-4bf6-b771-cb65167e51f0",
   "metadata": {},
   "source": [
    "# Dados de Criptomoedas\n",
    "\n",
    "Dados do CoinMarketCap"
   ]
  },
  {
   "cell_type": "code",
   "execution_count": null,
   "id": "26cc77eb-3952-47fd-a800-2239357be7e2",
   "metadata": {},
   "outputs": [],
   "source": [
    "!pip install cryptocmd"
   ]
  },
  {
   "cell_type": "code",
   "execution_count": null,
   "id": "99536393-51ff-43cf-8793-751ca8d48a93",
   "metadata": {},
   "outputs": [],
   "source": [
    "from cryptocmd import CmcScraper"
   ]
  },
  {
   "cell_type": "code",
   "execution_count": null,
   "id": "95f12d38",
   "metadata": {},
   "outputs": [],
   "source": [
    "scraper = CmcScraper(\"BTC\")\n",
    "\n",
    "dados_cripto = scraper.get_dataframe()\n",
    "\n",
    "dados_cripto"
   ]
  },
  {
   "cell_type": "markdown",
   "id": "ae50581e-4a0d-4055-9e92-9b44c97ba2c9",
   "metadata": {},
   "source": [
    "# Dados do Banco Central\n",
    "\n",
    "https://www3.bcb.gov.br/sgspub/localizarseries/localizarSeries.do?method=prepararTelaLocalizarSeries"
   ]
  },
  {
   "cell_type": "code",
   "execution_count": null,
   "id": "ebd02192-13d7-44c9-b1b0-90fce6aa53e4",
   "metadata": {},
   "outputs": [],
   "source": [
    "!pip install python-bcb"
   ]
  },
  {
   "cell_type": "code",
   "execution_count": null,
   "id": "438aea2c-9110-4828-ba27-c73931655d96",
   "metadata": {},
   "outputs": [],
   "source": [
    "from bcb import sgs"
   ]
  },
  {
   "cell_type": "code",
   "execution_count": null,
   "id": "bc63cb48-eb25-4f12-a44c-66f70afc9c48",
   "metadata": {},
   "outputs": [],
   "source": [
    "dado_banco_central = sgs.get({'DOLAR': 1})\n",
    "\n",
    "#IPCA 433\n",
    "#DOLAR 1\n",
    "#IPGM 189\n",
    "\n",
    "dado_banco_central"
   ]
  },
  {
   "cell_type": "markdown",
   "id": "866bf9e4",
   "metadata": {},
   "source": [
    "# Dados coletados via leitura de documentos"
   ]
  },
  {
   "cell_type": "code",
   "execution_count": null,
   "id": "549ccf02",
   "metadata": {},
   "outputs": [],
   "source": [
    "dados_shoppings = pd.read_csv('shoppings.csv')\n",
    "\n",
    "dados_shoppings"
   ]
  },
  {
   "cell_type": "code",
   "execution_count": 1,
   "id": "683834c4",
   "metadata": {},
   "outputs": [
    {
     "ename": "NameError",
     "evalue": "name 'pd' is not defined",
     "output_type": "error",
     "traceback": [
      "\u001b[1;31m---------------------------------------------------------------------------\u001b[0m",
      "\u001b[1;31mNameError\u001b[0m                                 Traceback (most recent call last)",
      "Cell \u001b[1;32mIn[1], line 1\u001b[0m\n\u001b[1;32m----> 1\u001b[0m pib_municipios \u001b[38;5;241m=\u001b[39m \u001b[43mpd\u001b[49m\u001b[38;5;241m.\u001b[39mread_excel(\u001b[38;5;124m\"\u001b[39m\u001b[38;5;124mpib_municipios.xlsx\u001b[39m\u001b[38;5;124m\"\u001b[39m)\n\u001b[0;32m      3\u001b[0m pib_municipios\n",
      "\u001b[1;31mNameError\u001b[0m: name 'pd' is not defined"
     ]
    }
   ],
   "source": [
    "pib_municipios = pd.read_excel(\"pib_municipios.xlsx\")\n",
    "\n",
    "pib_municipios"
   ]
  },
  {
   "cell_type": "markdown",
   "id": "cedc4845",
   "metadata": {},
   "source": [
    "# Dados coletados via API\n",
    "\n",
    "* Não existe lugar no Brasil pra eventos societários.\n",
    "* A base fundamentalista da CVM é muito desorganizada, despadronizada e, as vezes, errada."
   ]
  },
  {
   "cell_type": "code",
   "execution_count": null,
   "id": "1e734abc",
   "metadata": {},
   "outputs": [],
   "source": []
  },
  {
   "cell_type": "code",
   "execution_count": null,
   "id": "1c51f4f0",
   "metadata": {},
   "outputs": [],
   "source": []
  },
  {
   "cell_type": "code",
   "execution_count": null,
   "id": "38805e16",
   "metadata": {},
   "outputs": [],
   "source": []
  },
  {
   "cell_type": "code",
   "execution_count": null,
   "id": "316f7947",
   "metadata": {},
   "outputs": [],
   "source": []
  },
  {
   "cell_type": "code",
   "execution_count": null,
   "id": "a0411854",
   "metadata": {},
   "outputs": [],
   "source": []
  },
  {
   "cell_type": "code",
   "execution_count": null,
   "id": "c6c9fd35",
   "metadata": {},
   "outputs": [],
   "source": []
  },
  {
   "cell_type": "code",
   "execution_count": null,
   "id": "4e2f4d7c",
   "metadata": {},
   "outputs": [],
   "source": []
  },
  {
   "cell_type": "code",
   "execution_count": null,
   "id": "2350c822",
   "metadata": {},
   "outputs": [],
   "source": []
  }
 ],
 "metadata": {
  "kernelspec": {
   "display_name": "Python 3 (ipykernel)",
   "language": "python",
   "name": "python3"
  },
  "language_info": {
   "codemirror_mode": {
    "name": "ipython",
    "version": 3
   },
   "file_extension": ".py",
   "mimetype": "text/x-python",
   "name": "python",
   "nbconvert_exporter": "python",
   "pygments_lexer": "ipython3",
   "version": "3.10.7"
  }
 },
 "nbformat": 4,
 "nbformat_minor": 5
}
